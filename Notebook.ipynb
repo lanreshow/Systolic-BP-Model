{
  "cells": [
    {
      "cell_type": "code",
      "execution_count": null,
      "metadata": {
        "id": "b3PWzR10m-51"
      },
      "outputs": [],
      "source": [
        "import pandas as pd\n",
        "import numpy as np\n",
        "import seaborn as sns\n",
        "import matplotlib.pyplot as plt\n",
        "%matplotlib inline\n",
        "import warnings\n",
        "warnings.filterwarnings('ignore')\n",
        "from pandas.plotting import table\n",
        "#from apyori import apriori"
      ]
    },
    {
      "cell_type": "code",
      "execution_count": null,
      "metadata": {
        "colab": {
          "base_uri": "https://localhost:8080/",
          "height": 206
        },
        "id": "zay0EWOwNsr8",
        "outputId": "dd9abbca-94c2-4ecf-9d29-30897744762f"
      },
      "outputs": [
        {
          "output_type": "execute_result",
          "data": {
            "text/plain": [
              "   Age  SystolicBP  DiastolicBP    BS  BodyTemp  HeartRate  RiskLevel\n",
              "0   25         130           80  15.0      98.0         86  high risk\n",
              "1   35         140           90  13.0      98.0         70  high risk\n",
              "2   29          90           70   8.0     100.0         80  high risk\n",
              "3   30         140           85   7.0      98.0         70  high risk\n",
              "4   35         120           60   6.1      98.0         76   low risk"
            ],
            "text/html": [
              "\n",
              "  <div id=\"df-d8ce1756-afde-4a63-b1df-020d9f70e49d\">\n",
              "    <div class=\"colab-df-container\">\n",
              "      <div>\n",
              "<style scoped>\n",
              "    .dataframe tbody tr th:only-of-type {\n",
              "        vertical-align: middle;\n",
              "    }\n",
              "\n",
              "    .dataframe tbody tr th {\n",
              "        vertical-align: top;\n",
              "    }\n",
              "\n",
              "    .dataframe thead th {\n",
              "        text-align: right;\n",
              "    }\n",
              "</style>\n",
              "<table border=\"1\" class=\"dataframe\">\n",
              "  <thead>\n",
              "    <tr style=\"text-align: right;\">\n",
              "      <th></th>\n",
              "      <th>Age</th>\n",
              "      <th>SystolicBP</th>\n",
              "      <th>DiastolicBP</th>\n",
              "      <th>BS</th>\n",
              "      <th>BodyTemp</th>\n",
              "      <th>HeartRate</th>\n",
              "      <th>RiskLevel</th>\n",
              "    </tr>\n",
              "  </thead>\n",
              "  <tbody>\n",
              "    <tr>\n",
              "      <th>0</th>\n",
              "      <td>25</td>\n",
              "      <td>130</td>\n",
              "      <td>80</td>\n",
              "      <td>15.0</td>\n",
              "      <td>98.0</td>\n",
              "      <td>86</td>\n",
              "      <td>high risk</td>\n",
              "    </tr>\n",
              "    <tr>\n",
              "      <th>1</th>\n",
              "      <td>35</td>\n",
              "      <td>140</td>\n",
              "      <td>90</td>\n",
              "      <td>13.0</td>\n",
              "      <td>98.0</td>\n",
              "      <td>70</td>\n",
              "      <td>high risk</td>\n",
              "    </tr>\n",
              "    <tr>\n",
              "      <th>2</th>\n",
              "      <td>29</td>\n",
              "      <td>90</td>\n",
              "      <td>70</td>\n",
              "      <td>8.0</td>\n",
              "      <td>100.0</td>\n",
              "      <td>80</td>\n",
              "      <td>high risk</td>\n",
              "    </tr>\n",
              "    <tr>\n",
              "      <th>3</th>\n",
              "      <td>30</td>\n",
              "      <td>140</td>\n",
              "      <td>85</td>\n",
              "      <td>7.0</td>\n",
              "      <td>98.0</td>\n",
              "      <td>70</td>\n",
              "      <td>high risk</td>\n",
              "    </tr>\n",
              "    <tr>\n",
              "      <th>4</th>\n",
              "      <td>35</td>\n",
              "      <td>120</td>\n",
              "      <td>60</td>\n",
              "      <td>6.1</td>\n",
              "      <td>98.0</td>\n",
              "      <td>76</td>\n",
              "      <td>low risk</td>\n",
              "    </tr>\n",
              "  </tbody>\n",
              "</table>\n",
              "</div>\n",
              "      <button class=\"colab-df-convert\" onclick=\"convertToInteractive('df-d8ce1756-afde-4a63-b1df-020d9f70e49d')\"\n",
              "              title=\"Convert this dataframe to an interactive table.\"\n",
              "              style=\"display:none;\">\n",
              "        \n",
              "  <svg xmlns=\"http://www.w3.org/2000/svg\" height=\"24px\"viewBox=\"0 0 24 24\"\n",
              "       width=\"24px\">\n",
              "    <path d=\"M0 0h24v24H0V0z\" fill=\"none\"/>\n",
              "    <path d=\"M18.56 5.44l.94 2.06.94-2.06 2.06-.94-2.06-.94-.94-2.06-.94 2.06-2.06.94zm-11 1L8.5 8.5l.94-2.06 2.06-.94-2.06-.94L8.5 2.5l-.94 2.06-2.06.94zm10 10l.94 2.06.94-2.06 2.06-.94-2.06-.94-.94-2.06-.94 2.06-2.06.94z\"/><path d=\"M17.41 7.96l-1.37-1.37c-.4-.4-.92-.59-1.43-.59-.52 0-1.04.2-1.43.59L10.3 9.45l-7.72 7.72c-.78.78-.78 2.05 0 2.83L4 21.41c.39.39.9.59 1.41.59.51 0 1.02-.2 1.41-.59l7.78-7.78 2.81-2.81c.8-.78.8-2.07 0-2.86zM5.41 20L4 18.59l7.72-7.72 1.47 1.35L5.41 20z\"/>\n",
              "  </svg>\n",
              "      </button>\n",
              "      \n",
              "  <style>\n",
              "    .colab-df-container {\n",
              "      display:flex;\n",
              "      flex-wrap:wrap;\n",
              "      gap: 12px;\n",
              "    }\n",
              "\n",
              "    .colab-df-convert {\n",
              "      background-color: #E8F0FE;\n",
              "      border: none;\n",
              "      border-radius: 50%;\n",
              "      cursor: pointer;\n",
              "      display: none;\n",
              "      fill: #1967D2;\n",
              "      height: 32px;\n",
              "      padding: 0 0 0 0;\n",
              "      width: 32px;\n",
              "    }\n",
              "\n",
              "    .colab-df-convert:hover {\n",
              "      background-color: #E2EBFA;\n",
              "      box-shadow: 0px 1px 2px rgba(60, 64, 67, 0.3), 0px 1px 3px 1px rgba(60, 64, 67, 0.15);\n",
              "      fill: #174EA6;\n",
              "    }\n",
              "\n",
              "    [theme=dark] .colab-df-convert {\n",
              "      background-color: #3B4455;\n",
              "      fill: #D2E3FC;\n",
              "    }\n",
              "\n",
              "    [theme=dark] .colab-df-convert:hover {\n",
              "      background-color: #434B5C;\n",
              "      box-shadow: 0px 1px 3px 1px rgba(0, 0, 0, 0.15);\n",
              "      filter: drop-shadow(0px 1px 2px rgba(0, 0, 0, 0.3));\n",
              "      fill: #FFFFFF;\n",
              "    }\n",
              "  </style>\n",
              "\n",
              "      <script>\n",
              "        const buttonEl =\n",
              "          document.querySelector('#df-d8ce1756-afde-4a63-b1df-020d9f70e49d button.colab-df-convert');\n",
              "        buttonEl.style.display =\n",
              "          google.colab.kernel.accessAllowed ? 'block' : 'none';\n",
              "\n",
              "        async function convertToInteractive(key) {\n",
              "          const element = document.querySelector('#df-d8ce1756-afde-4a63-b1df-020d9f70e49d');\n",
              "          const dataTable =\n",
              "            await google.colab.kernel.invokeFunction('convertToInteractive',\n",
              "                                                     [key], {});\n",
              "          if (!dataTable) return;\n",
              "\n",
              "          const docLinkHtml = 'Like what you see? Visit the ' +\n",
              "            '<a target=\"_blank\" href=https://colab.research.google.com/notebooks/data_table.ipynb>data table notebook</a>'\n",
              "            + ' to learn more about interactive tables.';\n",
              "          element.innerHTML = '';\n",
              "          dataTable['output_type'] = 'display_data';\n",
              "          await google.colab.output.renderOutput(dataTable, element);\n",
              "          const docLink = document.createElement('div');\n",
              "          docLink.innerHTML = docLinkHtml;\n",
              "          element.appendChild(docLink);\n",
              "        }\n",
              "      </script>\n",
              "    </div>\n",
              "  </div>\n",
              "  "
            ]
          },
          "metadata": {},
          "execution_count": 4
        }
      ],
      "source": [
        "#Reading in the data\n",
        "data=pd.read_excel('mhs.xls')\n",
        "data.head(5)#To see the sample of how the data looks like"
      ]
    },
    {
      "cell_type": "markdown",
      "metadata": {
        "id": "uHUi_EUzm-56"
      },
      "source": [
        "                        Let's analyze and understand the data first"
      ]
    },
    {
      "cell_type": "code",
      "execution_count": null,
      "metadata": {
        "colab": {
          "base_uri": "https://localhost:8080/",
          "height": 300
        },
        "id": "R_L4SecJm-59",
        "outputId": "c0c2661a-c380-4f4a-c411-bacedaf14e63"
      },
      "outputs": [
        {
          "output_type": "execute_result",
          "data": {
            "text/plain": [
              "               Age   SystolicBP  DiastolicBP           BS     BodyTemp  \\\n",
              "count  1014.000000  1014.000000  1014.000000  1014.000000  1014.000000   \n",
              "mean     29.871795   113.198225    76.460552     8.725986    98.665089   \n",
              "std      13.474386    18.403913    13.885796     3.293532     1.371384   \n",
              "min      10.000000    70.000000    49.000000     6.000000    98.000000   \n",
              "25%      19.000000   100.000000    65.000000     6.900000    98.000000   \n",
              "50%      26.000000   120.000000    80.000000     7.500000    98.000000   \n",
              "75%      39.000000   120.000000    90.000000     8.000000    98.000000   \n",
              "max      70.000000   160.000000   100.000000    19.000000   103.000000   \n",
              "\n",
              "         HeartRate  \n",
              "count  1014.000000  \n",
              "mean     74.301775  \n",
              "std       8.088702  \n",
              "min       7.000000  \n",
              "25%      70.000000  \n",
              "50%      76.000000  \n",
              "75%      80.000000  \n",
              "max      90.000000  "
            ],
            "text/html": [
              "\n",
              "  <div id=\"df-a4d1b219-e7e5-40dc-bb42-3fc8deb4e7f8\">\n",
              "    <div class=\"colab-df-container\">\n",
              "      <div>\n",
              "<style scoped>\n",
              "    .dataframe tbody tr th:only-of-type {\n",
              "        vertical-align: middle;\n",
              "    }\n",
              "\n",
              "    .dataframe tbody tr th {\n",
              "        vertical-align: top;\n",
              "    }\n",
              "\n",
              "    .dataframe thead th {\n",
              "        text-align: right;\n",
              "    }\n",
              "</style>\n",
              "<table border=\"1\" class=\"dataframe\">\n",
              "  <thead>\n",
              "    <tr style=\"text-align: right;\">\n",
              "      <th></th>\n",
              "      <th>Age</th>\n",
              "      <th>SystolicBP</th>\n",
              "      <th>DiastolicBP</th>\n",
              "      <th>BS</th>\n",
              "      <th>BodyTemp</th>\n",
              "      <th>HeartRate</th>\n",
              "    </tr>\n",
              "  </thead>\n",
              "  <tbody>\n",
              "    <tr>\n",
              "      <th>count</th>\n",
              "      <td>1014.000000</td>\n",
              "      <td>1014.000000</td>\n",
              "      <td>1014.000000</td>\n",
              "      <td>1014.000000</td>\n",
              "      <td>1014.000000</td>\n",
              "      <td>1014.000000</td>\n",
              "    </tr>\n",
              "    <tr>\n",
              "      <th>mean</th>\n",
              "      <td>29.871795</td>\n",
              "      <td>113.198225</td>\n",
              "      <td>76.460552</td>\n",
              "      <td>8.725986</td>\n",
              "      <td>98.665089</td>\n",
              "      <td>74.301775</td>\n",
              "    </tr>\n",
              "    <tr>\n",
              "      <th>std</th>\n",
              "      <td>13.474386</td>\n",
              "      <td>18.403913</td>\n",
              "      <td>13.885796</td>\n",
              "      <td>3.293532</td>\n",
              "      <td>1.371384</td>\n",
              "      <td>8.088702</td>\n",
              "    </tr>\n",
              "    <tr>\n",
              "      <th>min</th>\n",
              "      <td>10.000000</td>\n",
              "      <td>70.000000</td>\n",
              "      <td>49.000000</td>\n",
              "      <td>6.000000</td>\n",
              "      <td>98.000000</td>\n",
              "      <td>7.000000</td>\n",
              "    </tr>\n",
              "    <tr>\n",
              "      <th>25%</th>\n",
              "      <td>19.000000</td>\n",
              "      <td>100.000000</td>\n",
              "      <td>65.000000</td>\n",
              "      <td>6.900000</td>\n",
              "      <td>98.000000</td>\n",
              "      <td>70.000000</td>\n",
              "    </tr>\n",
              "    <tr>\n",
              "      <th>50%</th>\n",
              "      <td>26.000000</td>\n",
              "      <td>120.000000</td>\n",
              "      <td>80.000000</td>\n",
              "      <td>7.500000</td>\n",
              "      <td>98.000000</td>\n",
              "      <td>76.000000</td>\n",
              "    </tr>\n",
              "    <tr>\n",
              "      <th>75%</th>\n",
              "      <td>39.000000</td>\n",
              "      <td>120.000000</td>\n",
              "      <td>90.000000</td>\n",
              "      <td>8.000000</td>\n",
              "      <td>98.000000</td>\n",
              "      <td>80.000000</td>\n",
              "    </tr>\n",
              "    <tr>\n",
              "      <th>max</th>\n",
              "      <td>70.000000</td>\n",
              "      <td>160.000000</td>\n",
              "      <td>100.000000</td>\n",
              "      <td>19.000000</td>\n",
              "      <td>103.000000</td>\n",
              "      <td>90.000000</td>\n",
              "    </tr>\n",
              "  </tbody>\n",
              "</table>\n",
              "</div>\n",
              "      <button class=\"colab-df-convert\" onclick=\"convertToInteractive('df-a4d1b219-e7e5-40dc-bb42-3fc8deb4e7f8')\"\n",
              "              title=\"Convert this dataframe to an interactive table.\"\n",
              "              style=\"display:none;\">\n",
              "        \n",
              "  <svg xmlns=\"http://www.w3.org/2000/svg\" height=\"24px\"viewBox=\"0 0 24 24\"\n",
              "       width=\"24px\">\n",
              "    <path d=\"M0 0h24v24H0V0z\" fill=\"none\"/>\n",
              "    <path d=\"M18.56 5.44l.94 2.06.94-2.06 2.06-.94-2.06-.94-.94-2.06-.94 2.06-2.06.94zm-11 1L8.5 8.5l.94-2.06 2.06-.94-2.06-.94L8.5 2.5l-.94 2.06-2.06.94zm10 10l.94 2.06.94-2.06 2.06-.94-2.06-.94-.94-2.06-.94 2.06-2.06.94z\"/><path d=\"M17.41 7.96l-1.37-1.37c-.4-.4-.92-.59-1.43-.59-.52 0-1.04.2-1.43.59L10.3 9.45l-7.72 7.72c-.78.78-.78 2.05 0 2.83L4 21.41c.39.39.9.59 1.41.59.51 0 1.02-.2 1.41-.59l7.78-7.78 2.81-2.81c.8-.78.8-2.07 0-2.86zM5.41 20L4 18.59l7.72-7.72 1.47 1.35L5.41 20z\"/>\n",
              "  </svg>\n",
              "      </button>\n",
              "      \n",
              "  <style>\n",
              "    .colab-df-container {\n",
              "      display:flex;\n",
              "      flex-wrap:wrap;\n",
              "      gap: 12px;\n",
              "    }\n",
              "\n",
              "    .colab-df-convert {\n",
              "      background-color: #E8F0FE;\n",
              "      border: none;\n",
              "      border-radius: 50%;\n",
              "      cursor: pointer;\n",
              "      display: none;\n",
              "      fill: #1967D2;\n",
              "      height: 32px;\n",
              "      padding: 0 0 0 0;\n",
              "      width: 32px;\n",
              "    }\n",
              "\n",
              "    .colab-df-convert:hover {\n",
              "      background-color: #E2EBFA;\n",
              "      box-shadow: 0px 1px 2px rgba(60, 64, 67, 0.3), 0px 1px 3px 1px rgba(60, 64, 67, 0.15);\n",
              "      fill: #174EA6;\n",
              "    }\n",
              "\n",
              "    [theme=dark] .colab-df-convert {\n",
              "      background-color: #3B4455;\n",
              "      fill: #D2E3FC;\n",
              "    }\n",
              "\n",
              "    [theme=dark] .colab-df-convert:hover {\n",
              "      background-color: #434B5C;\n",
              "      box-shadow: 0px 1px 3px 1px rgba(0, 0, 0, 0.15);\n",
              "      filter: drop-shadow(0px 1px 2px rgba(0, 0, 0, 0.3));\n",
              "      fill: #FFFFFF;\n",
              "    }\n",
              "  </style>\n",
              "\n",
              "      <script>\n",
              "        const buttonEl =\n",
              "          document.querySelector('#df-a4d1b219-e7e5-40dc-bb42-3fc8deb4e7f8 button.colab-df-convert');\n",
              "        buttonEl.style.display =\n",
              "          google.colab.kernel.accessAllowed ? 'block' : 'none';\n",
              "\n",
              "        async function convertToInteractive(key) {\n",
              "          const element = document.querySelector('#df-a4d1b219-e7e5-40dc-bb42-3fc8deb4e7f8');\n",
              "          const dataTable =\n",
              "            await google.colab.kernel.invokeFunction('convertToInteractive',\n",
              "                                                     [key], {});\n",
              "          if (!dataTable) return;\n",
              "\n",
              "          const docLinkHtml = 'Like what you see? Visit the ' +\n",
              "            '<a target=\"_blank\" href=https://colab.research.google.com/notebooks/data_table.ipynb>data table notebook</a>'\n",
              "            + ' to learn more about interactive tables.';\n",
              "          element.innerHTML = '';\n",
              "          dataTable['output_type'] = 'display_data';\n",
              "          await google.colab.output.renderOutput(dataTable, element);\n",
              "          const docLink = document.createElement('div');\n",
              "          docLink.innerHTML = docLinkHtml;\n",
              "          element.appendChild(docLink);\n",
              "        }\n",
              "      </script>\n",
              "    </div>\n",
              "  </div>\n",
              "  "
            ]
          },
          "metadata": {},
          "execution_count": 5
        }
      ],
      "source": [
        "data.describe()"
      ]
    },
    {
      "cell_type": "markdown",
      "metadata": {
        "id": "LXsFY6Glm-5_"
      },
      "source": [
        "                                Hypothesis Testing"
      ]
    },
    {
      "cell_type": "code",
      "execution_count": null,
      "metadata": {
        "id": "BcXfXL9Ym-5_"
      },
      "outputs": [],
      "source": [
        "data['RiskLevel']=data['RiskLevel'].map({'low risk':0,'mid risk':1,'high risk':2})\n",
        "#data['RiskLevel']"
      ]
    },
    {
      "cell_type": "markdown",
      "metadata": {
        "id": "T5pOSXqYm-6A"
      },
      "source": [
        "                                  Hypothesis test between SystolicBP and HeartRate"
      ]
    },
    {
      "cell_type": "code",
      "execution_count": null,
      "metadata": {
        "id": "OinwN5q4m-6B"
      },
      "outputs": [],
      "source": [
        "import scipy.signal._signaltools\n",
        "def _centred(arr,newsize):\n",
        "    newsize=np.asarray(newsize)\n",
        "    currsize=np.array(arr.shape)\n",
        "    startind=(currsize-newsize)//2\n",
        "    endind=startind+newsize\n",
        "    myslice=[slice(startind[k],endind[k]) for k in range(len(endind))]\n",
        "    return arr[tuple(myslice)]\n",
        "scipy.signal.signaltools._centered=_centred\n",
        "from sklearn.linear_model import LinearRegression"
      ]
    },
    {
      "cell_type": "code",
      "execution_count": null,
      "metadata": {
        "colab": {
          "base_uri": "https://localhost:8080/",
          "height": 448
        },
        "id": "Gc_eNbrCm-6C",
        "outputId": "65ae75ad-2d79-4b7a-ce8a-ba27f89c846e"
      },
      "outputs": [
        {
          "output_type": "execute_result",
          "data": {
            "text/plain": [
              "<class 'statsmodels.iolib.summary.Summary'>\n",
              "\"\"\"\n",
              "                            OLS Regression Results                            \n",
              "==============================================================================\n",
              "Dep. Variable:             SystolicBP   R-squared:                       0.157\n",
              "Model:                            OLS   Adj. R-squared:                  0.156\n",
              "Method:                 Least Squares   F-statistic:                     188.7\n",
              "Date:                Sun, 02 Apr 2023   Prob (F-statistic):           1.65e-39\n",
              "Time:                        22:24:28   Log-Likelihood:                -4304.9\n",
              "No. Observations:                1014   AIC:                             8614.\n",
              "Df Residuals:                    1012   BIC:                             8624.\n",
              "Df Model:                           1                                         \n",
              "Covariance Type:            nonrobust                                         \n",
              "==============================================================================\n",
              "                 coef    std err          t      P>|t|      [0.025      0.975]\n",
              "------------------------------------------------------------------------------\n",
              "const        105.3548      0.780    135.144      0.000     103.825     106.885\n",
              "RiskLevel      9.0378      0.658     13.739      0.000       7.747      10.329\n",
              "==============================================================================\n",
              "Omnibus:                       92.461   Durbin-Watson:                   2.071\n",
              "Prob(Omnibus):                  0.000   Jarque-Bera (JB):               82.395\n",
              "Skew:                          -0.625   Prob(JB):                     1.28e-18\n",
              "Kurtosis:                       2.376   Cond. No.                         2.59\n",
              "==============================================================================\n",
              "\n",
              "Notes:\n",
              "[1] Standard Errors assume that the covariance matrix of the errors is correctly specified.\n",
              "\"\"\""
            ],
            "text/html": [
              "<table class=\"simpletable\">\n",
              "<caption>OLS Regression Results</caption>\n",
              "<tr>\n",
              "  <th>Dep. Variable:</th>       <td>SystolicBP</td>    <th>  R-squared:         </th> <td>   0.157</td>\n",
              "</tr>\n",
              "<tr>\n",
              "  <th>Model:</th>                   <td>OLS</td>       <th>  Adj. R-squared:    </th> <td>   0.156</td>\n",
              "</tr>\n",
              "<tr>\n",
              "  <th>Method:</th>             <td>Least Squares</td>  <th>  F-statistic:       </th> <td>   188.7</td>\n",
              "</tr>\n",
              "<tr>\n",
              "  <th>Date:</th>             <td>Sun, 02 Apr 2023</td> <th>  Prob (F-statistic):</th> <td>1.65e-39</td>\n",
              "</tr>\n",
              "<tr>\n",
              "  <th>Time:</th>                 <td>22:24:28</td>     <th>  Log-Likelihood:    </th> <td> -4304.9</td>\n",
              "</tr>\n",
              "<tr>\n",
              "  <th>No. Observations:</th>      <td>  1014</td>      <th>  AIC:               </th> <td>   8614.</td>\n",
              "</tr>\n",
              "<tr>\n",
              "  <th>Df Residuals:</th>          <td>  1012</td>      <th>  BIC:               </th> <td>   8624.</td>\n",
              "</tr>\n",
              "<tr>\n",
              "  <th>Df Model:</th>              <td>     1</td>      <th>                     </th>     <td> </td>   \n",
              "</tr>\n",
              "<tr>\n",
              "  <th>Covariance Type:</th>      <td>nonrobust</td>    <th>                     </th>     <td> </td>   \n",
              "</tr>\n",
              "</table>\n",
              "<table class=\"simpletable\">\n",
              "<tr>\n",
              "      <td></td>         <th>coef</th>     <th>std err</th>      <th>t</th>      <th>P>|t|</th>  <th>[0.025</th>    <th>0.975]</th>  \n",
              "</tr>\n",
              "<tr>\n",
              "  <th>const</th>     <td>  105.3548</td> <td>    0.780</td> <td>  135.144</td> <td> 0.000</td> <td>  103.825</td> <td>  106.885</td>\n",
              "</tr>\n",
              "<tr>\n",
              "  <th>RiskLevel</th> <td>    9.0378</td> <td>    0.658</td> <td>   13.739</td> <td> 0.000</td> <td>    7.747</td> <td>   10.329</td>\n",
              "</tr>\n",
              "</table>\n",
              "<table class=\"simpletable\">\n",
              "<tr>\n",
              "  <th>Omnibus:</th>       <td>92.461</td> <th>  Durbin-Watson:     </th> <td>   2.071</td>\n",
              "</tr>\n",
              "<tr>\n",
              "  <th>Prob(Omnibus):</th> <td> 0.000</td> <th>  Jarque-Bera (JB):  </th> <td>  82.395</td>\n",
              "</tr>\n",
              "<tr>\n",
              "  <th>Skew:</th>          <td>-0.625</td> <th>  Prob(JB):          </th> <td>1.28e-18</td>\n",
              "</tr>\n",
              "<tr>\n",
              "  <th>Kurtosis:</th>      <td> 2.376</td> <th>  Cond. No.          </th> <td>    2.59</td>\n",
              "</tr>\n",
              "</table><br/><br/>Notes:<br/>[1] Standard Errors assume that the covariance matrix of the errors is correctly specified."
            ]
          },
          "metadata": {},
          "execution_count": 8
        }
      ],
      "source": [
        "import statsmodels.api as sma\n",
        "X2=sma.add_constant(data[['RiskLevel']])\n",
        "est=sma.OLS(data['SystolicBP'],X2)\n",
        "est2=est.fit()\n",
        "est2.summary()"
      ]
    },
    {
      "cell_type": "markdown",
      "metadata": {
        "id": "uiHUgU6Fm-6E"
      },
      "source": [
        "                                Hypothesis test between Blood Sugar and HeartRate"
      ]
    },
    {
      "cell_type": "code",
      "execution_count": null,
      "metadata": {
        "colab": {
          "base_uri": "https://localhost:8080/",
          "height": 448
        },
        "id": "Uu2dCStKm-6E",
        "outputId": "3c83d298-d9bf-4dbf-d54e-7a701bdc3e1f"
      },
      "outputs": [
        {
          "output_type": "execute_result",
          "data": {
            "text/plain": [
              "<class 'statsmodels.iolib.summary.Summary'>\n",
              "\"\"\"\n",
              "                            OLS Regression Results                            \n",
              "==============================================================================\n",
              "Dep. Variable:              RiskLevel   R-squared:                       0.325\n",
              "Model:                            OLS   Adj. R-squared:                  0.324\n",
              "Method:                 Least Squares   F-statistic:                     486.9\n",
              "Date:                Sun, 02 Apr 2023   Prob (F-statistic):           2.11e-88\n",
              "Time:                        22:24:32   Log-Likelihood:                -1022.2\n",
              "No. Observations:                1014   AIC:                             2048.\n",
              "Df Residuals:                    1012   BIC:                             2058.\n",
              "Df Model:                           1                                         \n",
              "Covariance Type:            nonrobust                                         \n",
              "==============================================================================\n",
              "                 coef    std err          t      P>|t|      [0.025      0.975]\n",
              "------------------------------------------------------------------------------\n",
              "const         -0.3513      0.059     -5.949      0.000      -0.467      -0.235\n",
              "BS             0.1397      0.006     22.066      0.000       0.127       0.152\n",
              "==============================================================================\n",
              "Omnibus:                      142.649   Durbin-Watson:                   1.200\n",
              "Prob(Omnibus):                  0.000   Jarque-Bera (JB):               62.809\n",
              "Skew:                           0.428   Prob(JB):                     2.30e-14\n",
              "Kurtosis:                       2.131   Cond. No.                         26.7\n",
              "==============================================================================\n",
              "\n",
              "Notes:\n",
              "[1] Standard Errors assume that the covariance matrix of the errors is correctly specified.\n",
              "\"\"\""
            ],
            "text/html": [
              "<table class=\"simpletable\">\n",
              "<caption>OLS Regression Results</caption>\n",
              "<tr>\n",
              "  <th>Dep. Variable:</th>        <td>RiskLevel</td>    <th>  R-squared:         </th> <td>   0.325</td>\n",
              "</tr>\n",
              "<tr>\n",
              "  <th>Model:</th>                   <td>OLS</td>       <th>  Adj. R-squared:    </th> <td>   0.324</td>\n",
              "</tr>\n",
              "<tr>\n",
              "  <th>Method:</th>             <td>Least Squares</td>  <th>  F-statistic:       </th> <td>   486.9</td>\n",
              "</tr>\n",
              "<tr>\n",
              "  <th>Date:</th>             <td>Sun, 02 Apr 2023</td> <th>  Prob (F-statistic):</th> <td>2.11e-88</td>\n",
              "</tr>\n",
              "<tr>\n",
              "  <th>Time:</th>                 <td>22:24:32</td>     <th>  Log-Likelihood:    </th> <td> -1022.2</td>\n",
              "</tr>\n",
              "<tr>\n",
              "  <th>No. Observations:</th>      <td>  1014</td>      <th>  AIC:               </th> <td>   2048.</td>\n",
              "</tr>\n",
              "<tr>\n",
              "  <th>Df Residuals:</th>          <td>  1012</td>      <th>  BIC:               </th> <td>   2058.</td>\n",
              "</tr>\n",
              "<tr>\n",
              "  <th>Df Model:</th>              <td>     1</td>      <th>                     </th>     <td> </td>   \n",
              "</tr>\n",
              "<tr>\n",
              "  <th>Covariance Type:</th>      <td>nonrobust</td>    <th>                     </th>     <td> </td>   \n",
              "</tr>\n",
              "</table>\n",
              "<table class=\"simpletable\">\n",
              "<tr>\n",
              "    <td></td>       <th>coef</th>     <th>std err</th>      <th>t</th>      <th>P>|t|</th>  <th>[0.025</th>    <th>0.975]</th>  \n",
              "</tr>\n",
              "<tr>\n",
              "  <th>const</th> <td>   -0.3513</td> <td>    0.059</td> <td>   -5.949</td> <td> 0.000</td> <td>   -0.467</td> <td>   -0.235</td>\n",
              "</tr>\n",
              "<tr>\n",
              "  <th>BS</th>    <td>    0.1397</td> <td>    0.006</td> <td>   22.066</td> <td> 0.000</td> <td>    0.127</td> <td>    0.152</td>\n",
              "</tr>\n",
              "</table>\n",
              "<table class=\"simpletable\">\n",
              "<tr>\n",
              "  <th>Omnibus:</th>       <td>142.649</td> <th>  Durbin-Watson:     </th> <td>   1.200</td>\n",
              "</tr>\n",
              "<tr>\n",
              "  <th>Prob(Omnibus):</th> <td> 0.000</td>  <th>  Jarque-Bera (JB):  </th> <td>  62.809</td>\n",
              "</tr>\n",
              "<tr>\n",
              "  <th>Skew:</th>          <td> 0.428</td>  <th>  Prob(JB):          </th> <td>2.30e-14</td>\n",
              "</tr>\n",
              "<tr>\n",
              "  <th>Kurtosis:</th>      <td> 2.131</td>  <th>  Cond. No.          </th> <td>    26.7</td>\n",
              "</tr>\n",
              "</table><br/><br/>Notes:<br/>[1] Standard Errors assume that the covariance matrix of the errors is correctly specified."
            ]
          },
          "metadata": {},
          "execution_count": 9
        }
      ],
      "source": [
        "import statsmodels.api as sma\n",
        "X2=sma.add_constant(data[['BS']])\n",
        "est=sma.OLS(data['RiskLevel'],X2)\n",
        "est2=est.fit()\n",
        "est2.summary()"
      ]
    },
    {
      "cell_type": "markdown",
      "metadata": {
        "id": "ETngOSG_1Iyg"
      },
      "source": [
        "                          Let's Do some Exploratory Data Analysis(EDA) first"
      ]
    },
    {
      "cell_type": "markdown",
      "metadata": {
        "id": "FTqVV24JDxTH"
      },
      "source": [
        "Distribution of Age"
      ]
    },
    {
      "cell_type": "code",
      "execution_count": null,
      "metadata": {
        "colab": {
          "base_uri": "https://localhost:8080/",
          "height": 467
        },
        "id": "KLuLbo0sDvXB",
        "outputId": "98cc4d1d-d2cd-40c6-dd44-9d126f52d3e9"
      },
      "outputs": [
        {
          "data": {
            "text/plain": [
              "<Axes: xlabel='Age'>"
            ]
          },
          "execution_count": 4,
          "metadata": {},
          "output_type": "execute_result"
        },
        {
          "data": {
            "image/png": "[encoded data removed]",
            "text/plain": [
              "<Figure size 640x480 with 1 Axes>"
            ]
          },
          "metadata": {},
          "output_type": "display_data"
        }
      ],
      "source": [
        "sns_plot1=sns.distplot(data['Age'], kde=False)\n",
        "sns_plot1.figure.savefig('Age.png')\n",
        "sns_plot1"
      ]
    },
    {
      "cell_type": "markdown",
      "metadata": {
        "id": "K5oxKlo8Ed81"
      },
      "source": [
        "                                    Distribution of SystolicBP"
      ]
    },
    {
      "cell_type": "code",
      "execution_count": null,
      "metadata": {
        "colab": {
          "base_uri": "https://localhost:8080/",
          "height": 467
        },
        "id": "FmnUoFoTEZvt",
        "outputId": "e7651702-e77f-49d9-f3a7-a6d26d238ed8"
      },
      "outputs": [
        {
          "data": {
            "text/plain": [
              "<Axes: xlabel='SystolicBP'>"
            ]
          },
          "execution_count": 5,
          "metadata": {},
          "output_type": "execute_result"
        },
        {
          "data": {
            "image/png": "[encoded data removed]",
            "text/plain": [
              "<Figure size 640x480 with 1 Axes>"
            ]
          },
          "metadata": {},
          "output_type": "display_data"
        }
      ],
      "source": [
        "sns_plot1=sns.distplot(data['SystolicBP'], kde=False)\n",
        "sns_plot1.figure.savefig('Systolic.png')\n",
        "sns_plot1"
      ]
    },
    {
      "cell_type": "markdown",
      "metadata": {
        "id": "b6TUdCqVEsZy"
      },
      "source": [
        "                                    Distribution of DiastolicBP"
      ]
    },
    {
      "cell_type": "code",
      "execution_count": null,
      "metadata": {
        "colab": {
          "base_uri": "https://localhost:8080/",
          "height": 467
        },
        "id": "frw421hUEaH7",
        "outputId": "41b11df3-3fc6-4cec-b20f-69a1c5b75677"
      },
      "outputs": [
        {
          "data": {
            "text/plain": [
              "<Axes: xlabel='DiastolicBP'>"
            ]
          },
          "execution_count": 6,
          "metadata": {},
          "output_type": "execute_result"
        },
        {
          "data": {
            "image/png": "[encoded data removed]",
            "text/plain": [
              "<Figure size 640x480 with 1 Axes>"
            ]
          },
          "metadata": {},
          "output_type": "display_data"
        }
      ],
      "source": [
        "sns_plot1=sns.distplot(data['DiastolicBP'], kde=False)\n",
        "sns_plot1.figure.savefig('Diastolic.png')\n",
        "sns_plot1"
      ]
    },
    {
      "cell_type": "markdown",
      "metadata": {
        "id": "CKv9z6iuYDGE"
      },
      "source": [
        "                                Checking the relationship between SystolicBP and Diastolic BP"
      ]
    },
    {
      "cell_type": "code",
      "execution_count": null,
      "metadata": {
        "colab": {
          "base_uri": "https://localhost:8080/",
          "height": 625
        },
        "id": "mHWWN7nzYAuX",
        "outputId": "4a3bfda2-9e34-4c81-cc60-7d37137ddb8e"
      },
      "outputs": [
        {
          "data": {
            "text/plain": [
              "<seaborn.axisgrid.JointGrid at 0x7f560fe7f610>"
            ]
          },
          "execution_count": 7,
          "metadata": {},
          "output_type": "execute_result"
        },
        {
          "data": {
            "image/png": "[encoded data removed]",
            "text/plain": [
              "<Figure size 600x600 with 3 Axes>"
            ]
          },
          "metadata": {},
          "output_type": "display_data"
        }
      ],
      "source": [
        "sns_plot1=sns.jointplot(x='DiastolicBP',y='SystolicBP',data=data)\n",
        "sns_plot1.figure.savefig('DiaSys.png')\n",
        "sns_plot1"
      ]
    },
    {
      "cell_type": "markdown",
      "metadata": {
        "id": "ByKrtw1DZmEi"
      },
      "source": [
        "                            Visualizing the relationship between SystolicBP and HeartRate"
      ]
    },
    {
      "cell_type": "code",
      "execution_count": null,
      "metadata": {
        "colab": {
          "base_uri": "https://localhost:8080/",
          "height": 625
        },
        "id": "-UmkMzzWYByl",
        "outputId": "6e40ec6a-8c34-4a4a-eb0d-1df95a858e1d"
      },
      "outputs": [
        {
          "data": {
            "text/plain": [
              "<seaborn.axisgrid.JointGrid at 0x7f560faff400>"
            ]
          },
          "execution_count": 8,
          "metadata": {},
          "output_type": "execute_result"
        },
        {
          "data": {
            "image/png": "[encoded data removed]",
            "text/plain": [
              "<Figure size 600x600 with 3 Axes>"
            ]
          },
          "metadata": {},
          "output_type": "display_data"
        }
      ],
      "source": [
        "sns_plot1=sns.jointplot(x='HeartRate',y='SystolicBP',data=data)\n",
        "sns_plot1.figure.savefig('HeaSys.png')\n",
        "sns_plot1"
      ]
    },
    {
      "cell_type": "markdown",
      "metadata": {
        "id": "drA18HWikPbf"
      },
      "source": [
        "                            converting categorical variable into numeric"
      ]
    },
    {
      "cell_type": "markdown",
      "metadata": {
        "id": "2niY5H5OMeLC",
        "outputId": "510bcbf3-ad80-4850-8c97-988c201361a1"
      },
      "source": [
        "                Checking the correlation between features/variables"
      ]
    },
    {
      "cell_type": "code",
      "execution_count": null,
      "metadata": {
        "colab": {
          "base_uri": "https://localhost:8080/",
          "height": 237
        },
        "outputId": "510bcbf3-ad80-4850-8c97-988c201361a1",
        "id": "HGdFf1Ckm-6N"
      },
      "outputs": [
        {
          "data": {
            "text/html": [
              "\n",
              "  <div id=\"df-5e467452-4667-4b1a-b083-abb6724f451a\">\n",
              "    <div class=\"colab-df-container\">\n",
              "      <div>\n",
              "<style scoped>\n",
              "    .dataframe tbody tr th:only-of-type {\n",
              "        vertical-align: middle;\n",
              "    }\n",
              "\n",
              "    .dataframe tbody tr th {\n",
              "        vertical-align: top;\n",
              "    }\n",
              "\n",
              "    .dataframe thead th {\n",
              "        text-align: right;\n",
              "    }\n",
              "</style>\n",
              "<table border=\"1\" class=\"dataframe\">\n",
              "  <thead>\n",
              "    <tr style=\"text-align: right;\">\n",
              "      <th></th>\n",
              "      <th>Age</th>\n",
              "      <th>SystolicBP</th>\n",
              "      <th>DiastolicBP</th>\n",
              "      <th>BS</th>\n",
              "      <th>BodyTemp</th>\n",
              "      <th>HeartRate</th>\n",
              "    </tr>\n",
              "  </thead>\n",
              "  <tbody>\n",
              "    <tr>\n",
              "      <th>Age</th>\n",
              "      <td>1.000000</td>\n",
              "      <td>0.416045</td>\n",
              "      <td>0.398026</td>\n",
              "      <td>0.473284</td>\n",
              "      <td>-0.255323</td>\n",
              "      <td>0.079798</td>\n",
              "    </tr>\n",
              "    <tr>\n",
              "      <th>SystolicBP</th>\n",
              "      <td>0.416045</td>\n",
              "      <td>1.000000</td>\n",
              "      <td>0.787006</td>\n",
              "      <td>0.425172</td>\n",
              "      <td>-0.286616</td>\n",
              "      <td>-0.023108</td>\n",
              "    </tr>\n",
              "    <tr>\n",
              "      <th>DiastolicBP</th>\n",
              "      <td>0.398026</td>\n",
              "      <td>0.787006</td>\n",
              "      <td>1.000000</td>\n",
              "      <td>0.423824</td>\n",
              "      <td>-0.257538</td>\n",
              "      <td>-0.046151</td>\n",
              "    </tr>\n",
              "    <tr>\n",
              "      <th>BS</th>\n",
              "      <td>0.473284</td>\n",
              "      <td>0.425172</td>\n",
              "      <td>0.423824</td>\n",
              "      <td>1.000000</td>\n",
              "      <td>-0.103493</td>\n",
              "      <td>0.142867</td>\n",
              "    </tr>\n",
              "    <tr>\n",
              "      <th>BodyTemp</th>\n",
              "      <td>-0.255323</td>\n",
              "      <td>-0.286616</td>\n",
              "      <td>-0.257538</td>\n",
              "      <td>-0.103493</td>\n",
              "      <td>1.000000</td>\n",
              "      <td>0.098771</td>\n",
              "    </tr>\n",
              "    <tr>\n",
              "      <th>HeartRate</th>\n",
              "      <td>0.079798</td>\n",
              "      <td>-0.023108</td>\n",
              "      <td>-0.046151</td>\n",
              "      <td>0.142867</td>\n",
              "      <td>0.098771</td>\n",
              "      <td>1.000000</td>\n",
              "    </tr>\n",
              "  </tbody>\n",
              "</table>\n",
              "</div>\n",
              "      <button class=\"colab-df-convert\" onclick=\"convertToInteractive('df-5e467452-4667-4b1a-b083-abb6724f451a')\"\n",
              "              title=\"Convert this dataframe to an interactive table.\"\n",
              "              style=\"display:none;\">\n",
              "        \n",
              "  <svg xmlns=\"http://www.w3.org/2000/svg\" height=\"24px\"viewBox=\"0 0 24 24\"\n",
              "       width=\"24px\">\n",
              "    <path d=\"M0 0h24v24H0V0z\" fill=\"none\"/>\n",
              "    <path d=\"M18.56 5.44l.94 2.06.94-2.06 2.06-.94-2.06-.94-.94-2.06-.94 2.06-2.06.94zm-11 1L8.5 8.5l.94-2.06 2.06-.94-2.06-.94L8.5 2.5l-.94 2.06-2.06.94zm10 10l.94 2.06.94-2.06 2.06-.94-2.06-.94-.94-2.06-.94 2.06-2.06.94z\"/><path d=\"M17.41 7.96l-1.37-1.37c-.4-.4-.92-.59-1.43-.59-.52 0-1.04.2-1.43.59L10.3 9.45l-7.72 7.72c-.78.78-.78 2.05 0 2.83L4 21.41c.39.39.9.59 1.41.59.51 0 1.02-.2 1.41-.59l7.78-7.78 2.81-2.81c.8-.78.8-2.07 0-2.86zM5.41 20L4 18.59l7.72-7.72 1.47 1.35L5.41 20z\"/>\n",
              "  </svg>\n",
              "      </button>\n",
              "      \n",
              "  <style>\n",
              "    .colab-df-container {\n",
              "      display:flex;\n",
              "      flex-wrap:wrap;\n",
              "      gap: 12px;\n",
              "    }\n",
              "\n",
              "    .colab-df-convert {\n",
              "      background-color: #E8F0FE;\n",
              "      border: none;\n",
              "      border-radius: 50%;\n",
              "      cursor: pointer;\n",
              "      display: none;\n",
              "      fill: #1967D2;\n",
              "      height: 32px;\n",
              "      padding: 0 0 0 0;\n",
              "      width: 32px;\n",
              "    }\n",
              "\n",
              "    .colab-df-convert:hover {\n",
              "      background-color: #E2EBFA;\n",
              "      box-shadow: 0px 1px 2px rgba(60, 64, 67, 0.3), 0px 1px 3px 1px rgba(60, 64, 67, 0.15);\n",
              "      fill: #174EA6;\n",
              "    }\n",
              "\n",
              "    [theme=dark] .colab-df-convert {\n",
              "      background-color: #3B4455;\n",
              "      fill: #D2E3FC;\n",
              "    }\n",
              "\n",
              "    [theme=dark] .colab-df-convert:hover {\n",
              "      background-color: #434B5C;\n",
              "      box-shadow: 0px 1px 3px 1px rgba(0, 0, 0, 0.15);\n",
              "      filter: drop-shadow(0px 1px 2px rgba(0, 0, 0, 0.3));\n",
              "      fill: #FFFFFF;\n",
              "    }\n",
              "  </style>\n",
              "\n",
              "      <script>\n",
              "        const buttonEl =\n",
              "          document.querySelector('#df-5e467452-4667-4b1a-b083-abb6724f451a button.colab-df-convert');\n",
              "        buttonEl.style.display =\n",
              "          google.colab.kernel.accessAllowed ? 'block' : 'none';\n",
              "\n",
              "        async function convertToInteractive(key) {\n",
              "          const element = document.querySelector('#df-5e467452-4667-4b1a-b083-abb6724f451a');\n",
              "          const dataTable =\n",
              "            await google.colab.kernel.invokeFunction('convertToInteractive',\n",
              "                                                     [key], {});\n",
              "          if (!dataTable) return;\n",
              "\n",
              "          const docLinkHtml = 'Like what you see? Visit the ' +\n",
              "            '<a target=\"_blank\" href=https://colab.research.google.com/notebooks/data_table.ipynb>data table notebook</a>'\n",
              "            + ' to learn more about interactive tables.';\n",
              "          element.innerHTML = '';\n",
              "          dataTable['output_type'] = 'display_data';\n",
              "          await google.colab.output.renderOutput(dataTable, element);\n",
              "          const docLink = document.createElement('div');\n",
              "          docLink.innerHTML = docLinkHtml;\n",
              "          element.appendChild(docLink);\n",
              "        }\n",
              "      </script>\n",
              "    </div>\n",
              "  </div>\n",
              "  "
            ],
            "text/plain": [
              "                  Age  SystolicBP  DiastolicBP        BS  BodyTemp  HeartRate\n",
              "Age          1.000000    0.416045     0.398026  0.473284 -0.255323   0.079798\n",
              "SystolicBP   0.416045    1.000000     0.787006  0.425172 -0.286616  -0.023108\n",
              "DiastolicBP  0.398026    0.787006     1.000000  0.423824 -0.257538  -0.046151\n",
              "BS           0.473284    0.425172     0.423824  1.000000 -0.103493   0.142867\n",
              "BodyTemp    -0.255323   -0.286616    -0.257538 -0.103493  1.000000   0.098771\n",
              "HeartRate    0.079798   -0.023108    -0.046151  0.142867  0.098771   1.000000"
            ]
          },
          "execution_count": 9,
          "metadata": {},
          "output_type": "execute_result"
        }
      ],
      "source": [
        "data.corr()"
      ]
    },
    {
      "cell_type": "code",
      "execution_count": null,
      "metadata": {
        "colab": {
          "base_uri": "https://localhost:8080/",
          "height": 517
        },
        "id": "8WjBMQCEMeOu",
        "outputId": "f544bb9f-0d75-452d-a49f-d913ca6245a2"
      },
      "outputs": [
        {
          "data": {
            "text/plain": [
              "<Axes: >"
            ]
          },
          "execution_count": 10,
          "metadata": {},
          "output_type": "execute_result"
        },
        {
          "data": {
            "image/png": "[encoded data removed]",
            "text/plain": [
              "<Figure size 640x480 with 2 Axes>"
            ]
          },
          "metadata": {},
          "output_type": "display_data"
        }
      ],
      "source": [
        "#Visualizing the correlation with heatmap\n",
        "sns_plot1=sns.heatmap(data.corr(),annot=True)\n",
        "sns_plot1.figure.savefig('heatmap.png')\n",
        "sns_plot1"
      ]
    },
    {
      "cell_type": "markdown",
      "metadata": {
        "id": "U5AeWp_cNIAv"
      },
      "source": [
        "#1).      Build and Fit a Linear Model"
      ]
    },
    {
      "cell_type": "markdown",
      "metadata": {
        "id": "CvEMa6ba2Q7q"
      },
      "source": [
        "We'll be using 3 variables **(Age,BS,BodyTemp)** to predict the value of sytolicBP.\n",
        "Here's why:\n",
        "\n",
        "**Age:**\n",
        "I chose age as one of the exploratory variable because it is a common risk factor for high blood pressure and has a strong correlation with systolic blood pressure in the given data.\n",
        "\n",
        "**BS(BloodSugar):**\n",
        "I chose BS because high blood sugar can increase blood pressure and has a strong correlation with systolic blood pressure in the given data\n",
        "\n",
        "**BodyTemp:**\n",
        "Blood pressure tends to be higher in cold weather due to the constriction of blood vessels as the body attempts to retain heat. It also has a fairly good correlation with the SystolicBP \n"
      ]
    },
    {
      "cell_type": "code",
      "execution_count": null,
      "metadata": {
        "id": "TzZyczHB1rg5"
      },
      "outputs": [],
      "source": [
        "#Chosing the exploratory variable\n",
        "X=data[['Age','BS','BodyTemp','DiastolicBP']]#\n",
        "y=data['SystolicBP']\n",
        "from sklearn.model_selection import train_test_split\n",
        "X_train, X_test, y_train, y_test = train_test_split(X, y, test_size=0.2, random_state=42)"
      ]
    },
    {
      "cell_type": "code",
      "execution_count": null,
      "metadata": {
        "id": "nVzJHhhdNJd5"
      },
      "outputs": [],
      "source": [
        "from sklearn.linear_model import LinearRegression\n",
        "lm=LinearRegression()\n",
        "lm.fit(X_train,y_train)#Training the train data\n",
        "predictions=lm.predict(X_test)"
      ]
    },
    {
      "cell_type": "markdown",
      "metadata": {
        "id": "ejfN189HkAt1"
      },
      "source": [
        "                                Evaluating Model"
      ]
    },
    {
      "cell_type": "code",
      "execution_count": null,
      "metadata": {
        "colab": {
          "base_uri": "https://localhost:8080/"
        },
        "id": "hmAdbRUtj-B5",
        "outputId": "5c657b41-b54b-4896-ac1f-3bd41df78b7b"
      },
      "outputs": [
        {
          "data": {
            "text/plain": [
              "11.053606677638683"
            ]
          },
          "execution_count": 23,
          "metadata": {},
          "output_type": "execute_result"
        }
      ],
      "source": [
        "from sklearn.metrics import mean_squared_error,mean_absolute_error\n",
        "np.sqrt(mean_squared_error(predictions,y_test))"
      ]
    },
    {
      "cell_type": "code",
      "execution_count": null,
      "metadata": {
        "colab": {
          "base_uri": "https://localhost:8080/"
        },
        "id": "GtPvhAemNb_H",
        "outputId": "cceb2d2b-1e1e-4aa0-a542-192452ceaebe"
      },
      "outputs": [
        {
          "data": {
            "text/plain": [
              "9.333307861988047"
            ]
          },
          "execution_count": 22,
          "metadata": {},
          "output_type": "execute_result"
        }
      ],
      "source": [
        "mean_absolute_error(predictions,y_test)"
      ]
    },
    {
      "cell_type": "markdown",
      "metadata": {
        "id": "XjZC8c83Nj91"
      },
      "source": [
        "#2).                Reducing the number of variable to 2 with the use of PCA"
      ]
    },
    {
      "cell_type": "code",
      "execution_count": null,
      "metadata": {
        "id": "RyL4NRsLacD5"
      },
      "outputs": [],
      "source": [
        "#In order to reduce the number of variable by using pca,we need to scale our features/variables\n",
        "from sklearn.preprocessing import StandardScaler\n",
        "from sklearn.decomposition import PCA\n",
        "\n",
        "X = data.drop('SystolicBP', axis=1)\n",
        "\n",
        "# standardize the features\n",
        "scaler = StandardScaler()\n",
        "X_std = scaler.fit_transform(X)\n",
        "\n",
        "# apply PCA to the standardized data\n",
        "pca = PCA(n_components=2)\n",
        "X_pca = pca.fit_transform(X_std)\n",
        "\n"
      ]
    },
    {
      "cell_type": "code",
      "execution_count": null,
      "metadata": {
        "id": "FFJ4_QaJbJrf"
      },
      "outputs": [],
      "source": [
        "# create a new dataframe with the principal components and the target variable\n",
        "df_pca = pd.DataFrame({\n",
        "    'PC1': X_pca[:, 0],\n",
        "    'PC2': X_pca[:, 1],\n",
        "    'SystolicBP': data['SystolicBP']\n",
        "})"
      ]
    },
    {
      "cell_type": "code",
      "execution_count": null,
      "metadata": {
        "colab": {
          "base_uri": "https://localhost:8080/",
          "height": 467
        },
        "id": "EXtcTbmZbLXZ",
        "outputId": "9adc6517-9a82-4c55-ab42-76f834d7bc88"
      },
      "outputs": [
        {
          "data": {
            "text/plain": [
              "<Axes: xlabel='PC1', ylabel='PC2'>"
            ]
          },
          "execution_count": 25,
          "metadata": {},
          "output_type": "execute_result"
        },
        {
          "data": {
            "image/png": "[encoded data removed]",
            "text/plain": [
              "<Figure size 640x480 with 1 Axes>"
            ]
          },
          "metadata": {},
          "output_type": "display_data"
        }
      ],
      "source": [
        "# visualize the results with a scatter plot\n",
        "import seaborn as sns\n",
        "sns_plot1=sns.scatterplot(x='PC1', y='PC2', hue='SystolicBP', data=df_pca)\n",
        "sns_plot1.figure.savefig('pca.png')\n",
        "sns_plot1"
      ]
    },
    {
      "cell_type": "code",
      "execution_count": null,
      "metadata": {
        "colab": {
          "base_uri": "https://localhost:8080/"
        },
        "id": "xjmj-kKbNcdC",
        "outputId": "00c0f3b2-b64c-4d6d-b09e-6e70e0f20fa9"
      },
      "outputs": [
        {
          "data": {
            "text/plain": [
              "(1014, 6)"
            ]
          },
          "execution_count": 26,
          "metadata": {},
          "output_type": "execute_result"
        }
      ],
      "source": [
        "X.shape"
      ]
    },
    {
      "cell_type": "code",
      "execution_count": null,
      "metadata": {
        "colab": {
          "base_uri": "https://localhost:8080/"
        },
        "id": "BMVUB11iNchp",
        "outputId": "92ac18a7-c73a-424a-b1ee-965d071f16f1"
      },
      "outputs": [
        {
          "data": {
            "text/plain": [
              "(1014, 2)"
            ]
          },
          "execution_count": 27,
          "metadata": {},
          "output_type": "execute_result"
        }
      ],
      "source": [
        "X_pca.shape  "
      ]
    },
    {
      "cell_type": "markdown",
      "metadata": {
        "id": "0Y-o1dgBjDQj"
      },
      "source": [
        "WE HAVE SUCCESSFULLY REDUCED THE NUMBER OF VARIABLES TO 2"
      ]
    },
    {
      "cell_type": "markdown",
      "metadata": {
        "id": "ByJKMhW1c12Z"
      },
      "source": [
        "#3). Relationship between Heartrate and Age group"
      ]
    },
    {
      "cell_type": "code",
      "execution_count": null,
      "metadata": {
        "id": "ypXXIbosRrnk"
      },
      "outputs": [],
      "source": [
        "#GROUPING THE AGE\n",
        "bins=[10,14,19,41,71]\n",
        "group=['10-14','14-19','19-41','41-71']\n",
        "data['Age_Interval']=pd.cut(data['Age'],bins,labels=group)"
      ]
    },
    {
      "cell_type": "code",
      "execution_count": null,
      "metadata": {
        "colab": {
          "base_uri": "https://localhost:8080/"
        },
        "id": "UArwfo8nSZZb",
        "outputId": "5c897ab7-41ba-40d2-b8c1-fb1a9b98ae41"
      },
      "outputs": [
        {
          "data": {
            "text/plain": [
              "Age_Interval\n",
              "10-14    70.220000\n",
              "14-19    72.995556\n",
              "19-41    75.115163\n",
              "41-71    74.728972\n",
              "Name: HeartRate, dtype: float64"
            ]
          },
          "execution_count": 13,
          "metadata": {},
          "output_type": "execute_result"
        }
      ],
      "source": [
        "#Calculate the mean heart rate\n",
        "mean_heart_rate = data.groupby('Age_Interval')['HeartRate'].mean()\n",
        "mean_heart_rate"
      ]
    },
    {
      "cell_type": "code",
      "execution_count": null,
      "metadata": {
        "colab": {
          "base_uri": "https://localhost:8080/",
          "height": 468
        },
        "id": "_LzTq_eCWNhU",
        "outputId": "91490708-f804-4e4e-86f6-3285ee151317"
      },
      "outputs": [
        {
          "data": {
            "text/plain": [
              "<Axes: xlabel='Age_Interval', ylabel='HeartRate'>"
            ]
          },
          "execution_count": 20,
          "metadata": {},
          "output_type": "execute_result"
        },
        {
          "data": {
            "image/png": "[encoded data removed]",
            "text/plain": [
              "<Figure size 640x480 with 1 Axes>"
            ]
          },
          "metadata": {},
          "output_type": "display_data"
        }
      ],
      "source": [
        "sns_plot1=sns.barplot(x='Age_Interval', y='HeartRate', data=data)\n",
        "sns_plot1.figure.savefig('Age_group.png')\n",
        "sns_plot1"
      ]
    },
    {
      "cell_type": "markdown",
      "metadata": {
        "id": "V7WxQQ-1UGP6"
      },
      "source": [
        "The resulting bar chart shows the mean heart rate for each age interval. The age interval were chosen based on adolescency i.e Age before adolescent,age at adolescent, adult age and older adult"
      ]
    },
    {
      "cell_type": "markdown",
      "metadata": {
        "id": "9OfD9FIPOWTN"
      },
      "source": [
        "#4). Investigating association between between pairs high/high, normal/normal, and low/low diastolic and systolic blood pressure.  "
      ]
    },
    {
      "cell_type": "markdown",
      "metadata": {
        "id": "Njae4hq6mAmu"
      },
      "source": [
        "**High/High**"
      ]
    },
    {
      "cell_type": "code",
      "execution_count": null,
      "metadata": {
        "colab": {
          "base_uri": "https://localhost:8080/"
        },
        "id": "5LtLG5CsnESR",
        "outputId": "fd44f4f6-71a8-425e-be8c-71816ba9d750"
      },
      "outputs": [
        {
          "name": "stdout",
          "output_type": "stream",
          "text": [
            "Support: 0.11538461538461539\n",
            "Confidence: 0.9000000000000001\n",
            "Conviction: 7.278106508875749\n",
            "Lift: 3.306521739130435\n"
          ]
        }
      ],
      "source": [
        "from mlxtend.frequent_patterns import apriori, association_rules\n",
        "\n",
        "# create a dataframe with only systolic and diastolic blood pressure columns\n",
        "bp_df = data[['SystolicBP', 'DiastolicBP']]\n",
        "\n",
        "# create binary values for high systolic and diastolic blood pressure\n",
        "bp_df['HighSystolicBP'] = bp_df['SystolicBP'].apply(lambda x: 1 if x >= 140 else 0)\n",
        "bp_df['HighDiastolicBP'] = bp_df['DiastolicBP'].apply(lambda x: 1 if x >= 90 else 0)\n",
        "\n",
        "# calculate frequent itemsets with a minimum support of 0.1\n",
        "frequent_itemsets = apriori(bp_df[['HighDiastolicBP','HighSystolicBP']], min_support=0.1, use_colnames=True)\n",
        "\n",
        "# generate association rules with a minimum lift of 1\n",
        "rules = association_rules(frequent_itemsets, metric='lift', min_threshold=1)\n",
        "\n",
        "# filter rules for high systolic and diastolic blood pressure\n",
        "high_bp_rules = rules[(rules['antecedents'].apply(lambda x: 'HighSystolicBP' in x) & rules['consequents'].apply(lambda x: 'HighDiastolicBP' in x))]\n",
        "\n",
        "# calculate support, confidence, conviction, and lift for high systolic and diastolic blood pressure\n",
        "support = high_bp_rules['support'].values[0]\n",
        "confidence = high_bp_rules['confidence'].values[0]\n",
        "conviction = high_bp_rules['conviction'].values[0]\n",
        "lift = high_bp_rules['lift'].values[0]\n",
        "\n",
        "print(\"Support:\", support)\n",
        "print(\"Confidence:\", confidence)\n",
        "print(\"Conviction:\", conviction)\n",
        "print(\"Lift:\", lift)"
      ]
    },
    {
      "cell_type": "markdown",
      "metadata": {
        "id": "N8N25tyPmVKe"
      },
      "source": [
        "**Normal/Normal**"
      ]
    },
    {
      "cell_type": "code",
      "execution_count": null,
      "metadata": {
        "colab": {
          "base_uri": "https://localhost:8080/"
        },
        "id": "JrA_fLXzowcy",
        "outputId": "d75ab094-05d2-4547-8020-18b33d62e635"
      },
      "outputs": [
        {
          "name": "stdout",
          "output_type": "stream",
          "text": [
            "Support: 0.24358974358974358\n",
            "Confidence: 0.48148148148148145\n",
            "Conviction: 1.4036348267117496\n",
            "Lift: 1.7689210950080514\n"
          ]
        }
      ],
      "source": [
        "from mlxtend.frequent_patterns import apriori, association_rules\n",
        "\n",
        "# create a dataframe with only systolic and diastolic blood pressure columns\n",
        "bp_df = data[['SystolicBP', 'DiastolicBP']]\n",
        "\n",
        "# create binary values for high systolic and diastolic blood pressure\n",
        "bp_df['NormalSystolicBP'] = bp_df['SystolicBP'].apply(lambda x: 1 if x in range(120,140) else 0)\n",
        "bp_df['NormalDiastolicBP'] = bp_df['DiastolicBP'].apply(lambda x: 1 if x in range(80,90) else 0)\n",
        "\n",
        "# calculate frequent itemsets with a minimum support of 0.1\n",
        "frequent_itemsets = apriori(bp_df[['NormalDiastolicBP','NormalSystolicBP']], min_support=0.1, use_colnames=True)\n",
        "\n",
        "# generate association rules with a minimum lift of 1\n",
        "rules = association_rules(frequent_itemsets, metric='lift', min_threshold=1)\n",
        "\n",
        "# filter rules for high systolic and diastolic blood pressure\n",
        "high_bp_rules = rules[(rules['antecedents'].apply(lambda x: 'NormalSystolicBP' in x) & rules['consequents'].apply(lambda x: 'NormalDiastolicBP' in x))]\n",
        "\n",
        "# calculate support, confidence, conviction, and lift for high systolic and diastolic blood pressure\n",
        "support = high_bp_rules['support'].values[0]\n",
        "confidence = high_bp_rules['confidence'].values[0]\n",
        "conviction = high_bp_rules['conviction'].values[0]\n",
        "lift = high_bp_rules['lift'].values[0]\n",
        "\n",
        "print(\"Support:\", support)\n",
        "print(\"Confidence:\", confidence)\n",
        "print(\"Conviction:\", conviction)\n",
        "print(\"Lift:\", lift)"
      ]
    },
    {
      "cell_type": "markdown",
      "metadata": {
        "id": "YRTeIXiSma0e"
      },
      "source": [
        "**Low/Low**"
      ]
    },
    {
      "cell_type": "code",
      "execution_count": null,
      "metadata": {
        "colab": {
          "base_uri": "https://localhost:8080/"
        },
        "id": "vC6e5kidowjY",
        "outputId": "f5c32223-da54-41a3-ddce-898bac5bd034"
      },
      "outputs": [
        {
          "name": "stdout",
          "output_type": "stream",
          "text": [
            "Support: 0.33826429980276135\n",
            "Confidence: 0.9245283018867925\n",
            "Conviction: 7.213017751479292\n",
            "Lift: 2.0291595197255576\n"
          ]
        }
      ],
      "source": [
        "from mlxtend.frequent_patterns import apriori, association_rules\n",
        "\n",
        "# create a dataframe with only systolic and diastolic blood pressure columns\n",
        "bp_df = data[['SystolicBP', 'DiastolicBP']]\n",
        "\n",
        "# create binary values for high systolic and diastolic blood pressure\n",
        "bp_df['LowSystolicBP'] = bp_df['SystolicBP'].apply(lambda x: 1 if x in range(69,120) else 0)\n",
        "bp_df['LowDiastolicBP'] = bp_df['DiastolicBP'].apply(lambda x: 1 if x in range(40,80) else 0)\n",
        "\n",
        "# calculate frequent itemsets with a minimum support of 0.1\n",
        "frequent_itemsets = apriori(bp_df[['LowDiastolicBP','LowSystolicBP']], min_support=0.1, use_colnames=True)\n",
        "\n",
        "# generate association rules with a minimum lift of 1\n",
        "rules = association_rules(frequent_itemsets, metric='lift', min_threshold=1)\n",
        "\n",
        "# filter rules for high systolic and diastolic blood pressure\n",
        "high_bp_rules = rules[(rules['antecedents'].apply(lambda x: 'LowSystolicBP' in x) & rules['consequents'].apply(lambda x: 'LowDiastolicBP' in x))]\n",
        "\n",
        "# calculate support, confidence, conviction, and lift for high systolic and diastolic blood pressure\n",
        "support = high_bp_rules['support'].values[0]\n",
        "confidence = high_bp_rules['confidence'].values[0]\n",
        "conviction = high_bp_rules['conviction'].values[0]\n",
        "lift = high_bp_rules['lift'].values[0]\n",
        "\n",
        "print(\"Support:\", support)\n",
        "print(\"Confidence:\", confidence)\n",
        "print(\"Conviction:\", conviction)\n",
        "print(\"Lift:\", lift)"
      ]
    },
    {
      "cell_type": "markdown",
      "metadata": {
        "id": "JICvLjx2PPYA"
      },
      "source": [
        "#5).                                                                                 Clustering the SystolicBP"
      ]
    },
    {
      "cell_type": "code",
      "execution_count": null,
      "metadata": {
        "id": "ghfkZfCL6psZ"
      },
      "outputs": [],
      "source": [
        "from sklearn.cluster import KMeans\n",
        "kmeans=KMeans(n_clusters=3,init='k-means++',random_state=2021)#2&2021\n",
        "kmeans.fit(data[['SystolicBP']])\n",
        "cluster_labels = kmeans.labels_\n",
        "# Add the cluster labels to the patient data DataFrame\n",
        "data[\"Cluster\"] = cluster_labels"
      ]
    },
    {
      "cell_type": "code",
      "execution_count": null,
      "metadata": {
        "colab": {
          "base_uri": "https://localhost:8080/",
          "height": 467
        },
        "id": "Z9EMdADTFJLP",
        "outputId": "f015990b-f38e-463b-d6eb-5f970da7b9af"
      },
      "outputs": [
        {
          "data": {
            "text/plain": [
              "<Axes: xlabel='Age', ylabel='SystolicBP'>"
            ]
          },
          "execution_count": 29,
          "metadata": {},
          "output_type": "execute_result"
        },
        {
          "data": {
            "image/png": "[encoded data removed]",
            "text/plain": [
              "<Figure size 640x480 with 1 Axes>"
            ]
          },
          "metadata": {},
          "output_type": "display_data"
        }
      ],
      "source": [
        "#plot the clusters\n",
        "sns.scatterplot(x='Age', y='SystolicBP', data=data)"
      ]
    },
    {
      "cell_type": "code",
      "execution_count": null,
      "metadata": {
        "id": "UZaZBNu5P_gs"
      },
      "outputs": [],
      "source": [
        "#Great,We are able to create clusters of patient with the similar systolicBP"
      ]
    },
    {
      "cell_type": "markdown",
      "metadata": {
        "id": "xGmcdnJLQjd7"
      },
      "source": [
        "#6). Correlation between Age and SystolicBP \n"
      ]
    },
    {
      "cell_type": "code",
      "execution_count": null,
      "metadata": {
        "colab": {
          "base_uri": "https://localhost:8080/"
        },
        "id": "Mw4ohXfyQK-O",
        "outputId": "510139ca-7851-4c64-85df-289025987027"
      },
      "outputs": [
        {
          "name": "stdout",
          "output_type": "stream",
          "text": [
            "Correlation coefficient between age and systolic BP: 0.4160454479747329\n"
          ]
        }
      ],
      "source": [
        "# Extract age and systolic BP columns\n",
        "age = data['Age']\n",
        "systolic_bp = data['SystolicBP']\n",
        "\n",
        "# Calculate mean and standard deviation of age and systolic BP\n",
        "mean_age = np.mean(age)\n",
        "std_age = np.std(age)\n",
        "mean_systolic_bp = np.mean(systolic_bp)\n",
        "std_systolic_bp = np.std(systolic_bp)\n",
        "\n",
        "# Calculate deviations for age and systolic BP\n",
        "dev_age = age - mean_age\n",
        "dev_systolic_bp = systolic_bp - mean_systolic_bp\n",
        "\n",
        "# Calculate correlation coefficient using Pearson's correlation formula\n",
        "corr_coef = np.sum(dev_age * dev_systolic_bp) / (len(age) * std_age * std_systolic_bp)\n",
        "\n",
        "print('Correlation coefficient between age and systolic BP:', corr_coef)"
      ]
    },
    {
      "cell_type": "code",
      "execution_count": null,
      "metadata": {
        "id": "QoRmEq-p5-ih"
      },
      "outputs": [],
      "source": []
    }
  ],
  "metadata": {
    "colab": {
      "provenance": []
    },
    "kernelspec": {
      "display_name": "Python 3",
      "language": "python",
      "name": "python3"
    },
    "language_info": {
      "codemirror_mode": {
        "name": "ipython",
        "version": 3
      },
      "file_extension": ".py",
      "mimetype": "text/x-python",
      "name": "python",
      "nbconvert_exporter": "python",
      "pygments_lexer": "ipython3",
      "version": "3.8.5"
    }
  },
  "nbformat": 4,
  "nbformat_minor": 0
}